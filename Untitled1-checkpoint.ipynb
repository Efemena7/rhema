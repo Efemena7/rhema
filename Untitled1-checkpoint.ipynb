{
 "cells": [
  {
   "cell_type": "code",
   "execution_count": null,
   "id": "e4d111e7",
   "metadata": {},
   "outputs": [],
   "source": []
  },
  {
   "cell_type": "code",
   "execution_count": null,
   "id": "87bb5b87",
   "metadata": {},
   "outputs": [],
   "source": [
    "no_of_trials=4\n",
    "for i in range(no_of_trials):\n",
    "    comp_guess=rd.randint(1,8)\n",
    "    print(comp_guess)\n",
    "    a=input()\n",
    "    if a==\"yes\":\n",
    "        print(\"Congrats!!!\")\n",
    "        break\n",
    "    elif a==\"no\":\n",
    "        print(f\"You have {no_of_trials-(i+1)} trial(s) left \\nTry Again!!!\")"
   ]
  },
  {
   "cell_type": "code",
   "execution_count": null,
   "id": "3f5c4ac0",
   "metadata": {},
   "outputs": [],
   "source": [
    "# Question 5"
   ]
  },
  {
   "cell_type": "code",
   "execution_count": null,
   "id": "abedcaab",
   "metadata": {},
   "outputs": [],
   "source": [
    "contatiner=float(input(\"How many liters\"))\n",
    "count=0\n",
    "if contatiner>1.0:\n",
    "    contatiner*0.25\n",
    "    print"
   ]
  },
  {
   "cell_type": "markdown",
   "id": "e1b2f765",
   "metadata": {},
   "source": [
    "# Queation 6"
   ]
  },
  {
   "cell_type": "code",
   "execution_count": null,
   "id": "bf6ca067",
   "metadata": {},
   "outputs": [],
   "source": [
    "cost_of_meal=float(input(\"Enter Cost of Meal: \"))\n",
    "tax=round(0.05*cost_of_meal,2)\n",
    "tip=round(0.18*cost_of_meal,2)\n",
    "grand_total=round((cost_of_meal+tax+tip),2)\n",
    "print(f\"Tax:{tax}\")\n",
    "print(f\"Tip:{tip}\")\n",
    "print(f\"Grand Total:{grand_total}\")"
   ]
  },
  {
   "cell_type": "code",
   "execution_count": null,
   "id": "f2685d84",
   "metadata": {},
   "outputs": [],
   "source": [
    "# Queation 7"
   ]
  },
  {
   "cell_type": "code",
   "execution_count": null,
   "id": "3faaa785",
   "metadata": {},
   "outputs": [],
   "source": [
    "num=int(input(\"Enter a number: \"))\n",
    "if num<0:\n",
    "    print(\"Error!!\\nYou entered a negative integer\")\n",
    "else:\n",
    "    summ=(num*(num+1))/2\n",
    "    print(f\"The sum of all postive integers from 1 to {num}: {summ}\")"
   ]
  },
  {
   "cell_type": "code",
   "execution_count": null,
   "id": "25c0ef9e",
   "metadata": {},
   "outputs": [],
   "source": [
    "# Queation 8"
   ]
  },
  {
   "cell_type": "code",
   "execution_count": null,
   "id": "b429cb9a",
   "metadata": {},
   "outputs": [],
   "source": [
    "no_widget=int(input(\"Enter number of Widgets: \"))\n",
    "no_gizmos=int(input(\"Enter number of Gizmos: \"))\n",
    "wid=no_widget*75\n",
    "giz=no_gizmos*112\n",
    "total_weight=wid+giz\n",
    "print(f\"Total Weight of the order: {total_weight}grams\")"
   ]
  },
  {
   "cell_type": "code",
   "execution_count": null,
   "id": "a1d1f9e2",
   "metadata": {},
   "outputs": [],
   "source": [
    "# Queation 9"
   ]
  },
  {
   "cell_type": "code",
   "execution_count": null,
   "id": "b86fb299",
   "metadata": {},
   "outputs": [],
   "source": [
    "money_deposited=float(input(\"Enter Amount deposited into the account: \"))\n",
    "year=0\n",
    "rate=0.04\n",
    "for i in range(1,year+4):\n",
    "    year=year+1\n",
    "    amount=round(money_deposited*(1+rate)**year,2)\n",
    "    print(amount)\n",
    "    print()"
   ]
  },
  {
   "cell_type": "code",
   "execution_count": null,
   "id": "e35845f1",
   "metadata": {},
   "outputs": [],
   "source": [
    "# Queation 10"
   ]
  },
  {
   "cell_type": "code",
   "execution_count": null,
   "id": "614912ae",
   "metadata": {},
   "outputs": [],
   "source": [
    "import math as mth"
   ]
  },
  {
   "cell_type": "code",
   "execution_count": null,
   "id": "d5093b4e",
   "metadata": {},
   "outputs": [],
   "source": [
    "a=float(input(\"Enter number: \"))\n",
    "b=float(input(\"Enter number: \"))\n",
    "summ=a+b\n",
    "diff=a-b\n",
    "product=a*b\n",
    "quot=a//b\n",
    "rema=a%b\n",
    "log=mth.log10(a)\n",
    "power=a**b\n",
    "print(f\"sum:{summ}\")\n",
    "print(f\"Difference:{diff}\")\n",
    "print(f\"Product:{product}\")\n",
    "print(f\"Quotient:{quot}\")\n",
    "print(f\"Remainder:{rema}\")\n",
    "print(log)\n",
    "print(power)"
   ]
  },
  {
   "cell_type": "code",
   "execution_count": null,
   "id": "d905bc8f",
   "metadata": {},
   "outputs": [],
   "source": [
    "# Queation 63"
   ]
  },
  {
   "cell_type": "code",
   "execution_count": null,
   "id": "dd9747ff",
   "metadata": {},
   "outputs": [],
   "source": [
    "degree_celsius=10,20,30,40,50,60,70,80,90,100\n",
    "print(\"Degree Celsius\\tFahrenheit\")\n",
    "print(\"-\"*25)\n",
    "for degree in degree_celsius:\n",
    "    fahrenheit=(1.8*degree)+32\n",
    "    print(f\"|{degree}\\t\\t|{fahrenheit}\")\n"
   ]
  },
  {
   "cell_type": "code",
   "execution_count": null,
   "id": "9c21662e",
   "metadata": {},
   "outputs": [],
   "source": [
    "celsius"
   ]
  },
  {
   "cell_type": "code",
   "execution_count": null,
   "id": "a01d3e7a",
   "metadata": {},
   "outputs": [],
   "source": [
    "# Queation 67"
   ]
  },
  {
   "cell_type": "code",
   "execution_count": 2,
   "id": "e0f69393",
   "metadata": {},
   "outputs": [],
   "source": [
    " \n",
    "a=int(input(\"Enter age: \"))"
   ]
  },
  {
   "cell_type": "code",
   "execution_count": null,
   "id": "2862e062",
   "metadata": {},
   "outputs": [],
   "source": [
    "# Queation 72"
   ]
  },
  {
   "cell_type": "code",
   "execution_count": null,
   "id": "fa734695",
   "metadata": {},
   "outputs": [],
   "source": []
  },
  {
   "cell_type": "code",
   "execution_count": null,
   "id": "9273cce4",
   "metadata": {},
   "outputs": [],
   "source": [
    "# Queation 73"
   ]
  },
  {
   "cell_type": "code",
   "execution_count": null,
   "id": "8c51e4ad",
   "metadata": {},
   "outputs": [],
   "source": []
  },
  {
   "cell_type": "code",
   "execution_count": null,
   "id": "10247c66",
   "metadata": {},
   "outputs": [],
   "source": []
  },
  {
   "cell_type": "code",
   "execution_count": null,
   "id": "4aa08b51",
   "metadata": {},
   "outputs": [],
   "source": []
  },
  {
   "cell_type": "code",
   "execution_count": null,
   "id": "282d72f9",
   "metadata": {},
   "outputs": [],
   "source": []
  },
  {
   "cell_type": "code",
   "execution_count": null,
   "id": "23d49e4f",
   "metadata": {},
   "outputs": [],
   "source": []
  },
  {
   "cell_type": "code",
   "execution_count": null,
   "id": "d9530ef9",
   "metadata": {},
   "outputs": [],
   "source": []
  },
  {
   "cell_type": "code",
   "execution_count": null,
   "id": "1d44c589",
   "metadata": {},
   "outputs": [],
   "source": []
  }
 ],
 "metadata": {
  "kernelspec": {
   "display_name": "Python 3 (ipykernel)",
   "language": "python",
   "name": "python3"
  },
  "language_info": {
   "codemirror_mode": {
    "name": "ipython",
    "version": 3
   },
   "file_extension": ".py",
   "mimetype": "text/x-python",
   "name": "python",
   "nbconvert_exporter": "python",
   "pygments_lexer": "ipython3",
   "version": "3.9.12"
  }
 },
 "nbformat": 4,
 "nbformat_minor": 5
}
